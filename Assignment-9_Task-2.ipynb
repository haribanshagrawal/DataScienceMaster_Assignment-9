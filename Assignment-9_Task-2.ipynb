{
 "cells": [
  {
   "cell_type": "markdown",
   "metadata": {},
   "source": [
    "### Q1 A test is conducted which is consisting of 20 MCQs (multiple choices questions) with every MCQ having its four options out of which only one is correct. Determine the probability that a person undertaking that test has answered exactly 5 questions wrong."
   ]
  },
  {
   "cell_type": "code",
   "execution_count": 14,
   "metadata": {},
   "outputs": [],
   "source": [
    "import math"
   ]
  },
  {
   "cell_type": "markdown",
   "metadata": {},
   "source": [
    "Here n = 20,n-k=5\n",
    "k= n-(n-k)"
   ]
  },
  {
   "cell_type": "markdown",
   "metadata": {},
   "source": [
    "Here the probability of success = probability of giving a right answer = s = 1/4\n",
    "\n",
    "Hence, the probability of failure = probability of giving a wrong answer = 1 - s = 1 - 1/4 = 3/4"
   ]
  },
  {
   "cell_type": "markdown",
   "metadata": {},
   "source": [
    "When we substitute these values in the formula for Binomial distribution we get, \n",
    "\n",
    "So, P (exactly 5 out of 20 answers incorrect) = C (20, 5) X (1/4)^15 X (3/4)^5"
   ]
  },
  {
   "cell_type": "code",
   "execution_count": 19,
   "metadata": {},
   "outputs": [
    {
     "name": "stdout",
     "output_type": "stream",
     "text": [
      "15504.0\n"
     ]
    }
   ],
   "source": [
    "C=0  #Combination of 5 out of 20\n",
    "n = 20\n",
    "k=5\n",
    "p_s=0.25\n",
    "P_1_s=0.75\n",
    "c = math.factorial(n)/((math.factorial(n - k)) * (math.factorial(k)))\n",
    "print(c)"
   ]
  },
  {
   "cell_type": "code",
   "execution_count": 30,
   "metadata": {},
   "outputs": [
    {
     "name": "stdout",
     "output_type": "stream",
     "text": [
      "0.00000343\n"
     ]
    }
   ],
   "source": [
    "P=c*math.pow(p_s,n-k)*math.pow(P_1_s,k)\n",
    "print('%.08f' % P)"
   ]
  },
  {
   "cell_type": "markdown",
   "metadata": {},
   "source": [
    "### Q2-> A die marked A to E is rolled 50 times. Find the probability of getting a “D” exactly 5 times"
   ]
  },
  {
   "cell_type": "markdown",
   "metadata": {},
   "source": [
    "Here, n = 50, k = 5, n - k = 45.\n",
    "\n",
    "The probability of success = probability of getting a “D”= s = 1/5\n",
    "\n",
    "Hence, the probability of failure = probability of not getting a “D” = 1 - s = 4/5.\n"
   ]
  },
  {
   "cell_type": "markdown",
   "metadata": {},
   "source": [
    "### Q3-> Two balls are drawn at random in succession without replacement from an urn containing 4 red balls and 6 black balls."
   ]
  },
  {
   "cell_type": "markdown",
   "metadata": {},
   "source": [
    "First determine the probabilities of the events.\n",
    "\n",
    "    Events           Probability\n",
    "  -----------------------------------------------  \n",
    "    RR    =      (4/10)(3/9) = 2/15\n",
    "    \n",
    "    RB    =      (4/10)(6/9) = 4/15\n",
    "    \n",
    "    BR    =   (6/10)(4/9) = 4/15 \n",
    "    \n",
    "    BB    =     (6/10)(5/9) = 1/3\n",
    "\n",
    "The probability of 0 blue balls (RR) is 2/15\n",
    "\n",
    "The probability of 1 blue ball is (RB or BR) is 4/15+4/15 = 8/15\n",
    "\n",
    "The probability of 2 blue balls (BB) is 1/3\n",
    "\n",
    "#### So the probability distribution is: Z   p(Z)  \n",
    "0 =   2/15\n",
    "1 = 8/15\n",
    "2 = 1/3\n"
   ]
  },
  {
   "cell_type": "code",
   "execution_count": null,
   "metadata": {},
   "outputs": [],
   "source": []
  }
 ],
 "metadata": {
  "kernelspec": {
   "display_name": "Python 3",
   "language": "python",
   "name": "python3"
  },
  "language_info": {
   "codemirror_mode": {
    "name": "ipython",
    "version": 3
   },
   "file_extension": ".py",
   "mimetype": "text/x-python",
   "name": "python",
   "nbconvert_exporter": "python",
   "pygments_lexer": "ipython3",
   "version": "3.6.5"
  }
 },
 "nbformat": 4,
 "nbformat_minor": 2
}
