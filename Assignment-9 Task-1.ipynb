{
 "cells": [
  {
   "cell_type": "markdown",
   "metadata": {},
   "source": [
    "### Task1"
   ]
  },
  {
   "cell_type": "markdown",
   "metadata": {},
   "source": [
    "### \"\"\" Q-1 You survey households in your area to find the average rent they are paying. Find the  standard deviation from the following data: $1550,$1700,$900,$850,$1000,$950.\"\"\""
   ]
  },
  {
   "cell_type": "code",
   "execution_count": 1,
   "metadata": {},
   "outputs": [],
   "source": [
    "def find_mean(arr):\n",
    " return sum(arr)/len(arr)"
   ]
  },
  {
   "cell_type": "code",
   "execution_count": 6,
   "metadata": {},
   "outputs": [],
   "source": [
    "from math import sqrt\n",
    "def find_variance(arr):\n",
    " variance = 0.0\n",
    " mean = find_mean(arr)\n",
    " variance = sum((x - mean)**2 for x in arr) / (len(arr)-1)\n",
    " return variance\n",
    " "
   ]
  },
  {
   "cell_type": "code",
   "execution_count": 7,
   "metadata": {},
   "outputs": [],
   "source": [
    "def find_std_dev(arr):\n",
    " return find_variance(arr)**0.5"
   ]
  },
  {
   "cell_type": "code",
   "execution_count": 8,
   "metadata": {},
   "outputs": [],
   "source": [
    "arr = [1550,1700,900,850,1000,950]"
   ]
  },
  {
   "cell_type": "code",
   "execution_count": 9,
   "metadata": {},
   "outputs": [
    {
     "name": "stdout",
     "output_type": "stream",
     "text": [
      "std_dev 367.99003609699366\n"
     ]
    }
   ],
   "source": [
    "print(\"std_dev \" + str(find_std_dev(arr)))"
   ]
  },
  {
   "cell_type": "markdown",
   "metadata": {},
   "source": [
    "## 2. Find the variance for the following set of data representing trees in California (heights in feet):3, 21, 98, 203, 17, 9"
   ]
  },
  {
   "cell_type": "code",
   "execution_count": 10,
   "metadata": {},
   "outputs": [],
   "source": [
    "arr2 = [3,21,98,203,17,9]"
   ]
  },
  {
   "cell_type": "code",
   "execution_count": 12,
   "metadata": {},
   "outputs": [
    {
     "name": "stdout",
     "output_type": "stream",
     "text": [
      "variance 6219.9\n"
     ]
    }
   ],
   "source": [
    "print (\"variance \" + str(find_variance(arr2)))"
   ]
  },
  {
   "cell_type": "markdown",
   "metadata": {},
   "source": [
    "## 3. In a class on 100 students, 80 students passed in all subjects, 10 failed in one subject, 7 failed in two subjects and 3 failed in three subjects. Find the probability distribution of the variable for number of subjects a student from the given class has failed in."
   ]
  },
  {
   "cell_type": "code",
   "execution_count": 20,
   "metadata": {},
   "outputs": [
    {
     "name": "stdout",
     "output_type": "stream",
     "text": [
      "The probability of failing in i subjects, P(X=0)=0.8\n",
      "The probability of failing in i subjects, P(X=1)=0.1\n",
      "The probability of failing in i subjects, P(X=2)=0.07\n",
      "The probability of failing in i subjects, P(X=3)=0.03\n"
     ]
    }
   ],
   "source": [
    "arr=[80,10,7,3]\n",
    "count=-1\n",
    "for i in arr:\n",
    "    count+=1\n",
    "    print(\"The probability of failing in i subjects, P(X=\"+str(count)+\")=\"+str(i/100))\n",
    "#print(\"The probability of failing in 1 subjects, P(X=1) =\"+str(10/100))\n",
    "#print(\"The probability of failing in 2 subjects, P(X=1) =\"+str(7/100))\n",
    "#print(\"The probability of failing in 3 subjects, P(X=3) =\"+str(3/100))"
   ]
  },
  {
   "cell_type": "code",
   "execution_count": null,
   "metadata": {},
   "outputs": [],
   "source": []
  }
 ],
 "metadata": {
  "kernelspec": {
   "display_name": "Python 3",
   "language": "python",
   "name": "python3"
  },
  "language_info": {
   "codemirror_mode": {
    "name": "ipython",
    "version": 3
   },
   "file_extension": ".py",
   "mimetype": "text/x-python",
   "name": "python",
   "nbconvert_exporter": "python",
   "pygments_lexer": "ipython3",
   "version": "3.6.5"
  }
 },
 "nbformat": 4,
 "nbformat_minor": 2
}
